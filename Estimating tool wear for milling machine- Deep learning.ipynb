{
 "cells": [
  {
   "cell_type": "code",
   "execution_count": 7,
   "metadata": {},
   "outputs": [],
   "source": [
    "from scipy.io import loadmat"
   ]
  },
  {
   "cell_type": "code",
   "execution_count": 8,
   "metadata": {},
   "outputs": [],
   "source": [
    "import numpy as np\n",
    "import seaborn as sns\n",
    "import matplotlib.pyplot as plt\n",
    "import pandas as pd\n",
    "%matplotlib inline"
   ]
  },
  {
   "cell_type": "code",
   "execution_count": 9,
   "metadata": {},
   "outputs": [],
   "source": [
    "mat = loadmat('mill.mat')"
   ]
  },
  {
   "cell_type": "code",
   "execution_count": 43,
   "metadata": {},
   "outputs": [
    {
     "name": "stdout",
     "output_type": "stream",
     "text": [
      "DONE\n"
     ]
    }
   ],
   "source": [
    "import scipy.io\n",
    "import pandas as pd\n",
    "\n",
    "mat = loadmat('mill.mat')\n",
    "mat = {k:v for k, v in mat.items() if k[0] != '_'}\n",
    "\n",
    "# parsing arrays in arrays in mat file  \n",
    "data = {}\n",
    "for k,v in mat.items():\n",
    "    arr = v[0]\n",
    "    for i in range(len(arr)):\n",
    "        sub_arr = v[0][i]\n",
    "        lst= []\n",
    "        for sub_index in range(len(sub_arr)):\n",
    "            vals = sub_arr[sub_index][0][0]\n",
    "            lst.append(vals)\n",
    "        data['row_{}'.format(i)] = lst\n",
    "        \n",
    "df = pd.DataFrame.from_dict(data, orient='index', columns=['case',\n",
    "                                                                  'run',\n",
    "                                                                  'VB', \n",
    "                                                                  'time',\n",
    "                                                                  'DOC',\n",
    "                                                                  \"feed\", \n",
    "                                                                  \"material\", \n",
    "                                                                  \"smcAC\",\n",
    "                                                                 \"smcDC\",\n",
    "                                                                  \"vib_table\",\n",
    "                                                                  \"vib_spindle\",\n",
    "                                                                  \"AE_table\",\n",
    "                                                                  \"AE_spindle\"])\n",
    "df.to_csv(\"mill.csv\")\n",
    "print(\"DONE\")\n",
    "\n"
   ]
  },
  {
   "cell_type": "markdown",
   "metadata": {},
   "source": [
    "# Cleaning the data"
   ]
  },
  {
   "cell_type": "code",
   "execution_count": 44,
   "metadata": {},
   "outputs": [
    {
     "data": {
      "text/html": [
       "<div>\n",
       "<style scoped>\n",
       "    .dataframe tbody tr th:only-of-type {\n",
       "        vertical-align: middle;\n",
       "    }\n",
       "\n",
       "    .dataframe tbody tr th {\n",
       "        vertical-align: top;\n",
       "    }\n",
       "\n",
       "    .dataframe thead th {\n",
       "        text-align: right;\n",
       "    }\n",
       "</style>\n",
       "<table border=\"1\" class=\"dataframe\">\n",
       "  <thead>\n",
       "    <tr style=\"text-align: right;\">\n",
       "      <th></th>\n",
       "      <th>case</th>\n",
       "      <th>run</th>\n",
       "      <th>VB</th>\n",
       "      <th>time</th>\n",
       "      <th>DOC</th>\n",
       "      <th>feed</th>\n",
       "      <th>material</th>\n",
       "      <th>smcAC</th>\n",
       "      <th>smcDC</th>\n",
       "      <th>vib_table</th>\n",
       "      <th>vib_spindle</th>\n",
       "      <th>AE_table</th>\n",
       "      <th>AE_spindle</th>\n",
       "    </tr>\n",
       "  </thead>\n",
       "  <tbody>\n",
       "    <tr>\n",
       "      <th>row_0</th>\n",
       "      <td>1</td>\n",
       "      <td>1</td>\n",
       "      <td>0.0</td>\n",
       "      <td>2</td>\n",
       "      <td>1.5</td>\n",
       "      <td>0.5</td>\n",
       "      <td>1</td>\n",
       "      <td>-0.017090</td>\n",
       "      <td>0.625000</td>\n",
       "      <td>0.078125</td>\n",
       "      <td>0.314941</td>\n",
       "      <td>0.08728</td>\n",
       "      <td>0.103760</td>\n",
       "    </tr>\n",
       "    <tr>\n",
       "      <th>row_1</th>\n",
       "      <td>1</td>\n",
       "      <td>2</td>\n",
       "      <td>NaN</td>\n",
       "      <td>4</td>\n",
       "      <td>1.5</td>\n",
       "      <td>0.5</td>\n",
       "      <td>1</td>\n",
       "      <td>0.307617</td>\n",
       "      <td>0.668945</td>\n",
       "      <td>0.075684</td>\n",
       "      <td>0.301514</td>\n",
       "      <td>0.08667</td>\n",
       "      <td>0.099487</td>\n",
       "    </tr>\n",
       "  </tbody>\n",
       "</table>\n",
       "</div>"
      ],
      "text/plain": [
       "       case  run   VB  time  DOC  feed  material     smcAC     smcDC  \\\n",
       "row_0     1    1  0.0     2  1.5   0.5         1 -0.017090  0.625000   \n",
       "row_1     1    2  NaN     4  1.5   0.5         1  0.307617  0.668945   \n",
       "\n",
       "       vib_table  vib_spindle  AE_table  AE_spindle  \n",
       "row_0   0.078125     0.314941   0.08728    0.103760  \n",
       "row_1   0.075684     0.301514   0.08667    0.099487  "
      ]
     },
     "execution_count": 44,
     "metadata": {},
     "output_type": "execute_result"
    }
   ],
   "source": [
    "df.head(2)"
   ]
  },
  {
   "cell_type": "code",
   "execution_count": 45,
   "metadata": {},
   "outputs": [
    {
     "name": "stdout",
     "output_type": "stream",
     "text": [
      "<class 'pandas.core.frame.DataFrame'>\n",
      "Index: 167 entries, row_0 to row_166\n",
      "Data columns (total 13 columns):\n",
      " #   Column       Non-Null Count  Dtype  \n",
      "---  ------       --------------  -----  \n",
      " 0   case         167 non-null    int64  \n",
      " 1   run          167 non-null    int64  \n",
      " 2   VB           146 non-null    float64\n",
      " 3   time         167 non-null    int64  \n",
      " 4   DOC          167 non-null    float64\n",
      " 5   feed         167 non-null    float64\n",
      " 6   material     167 non-null    int64  \n",
      " 7   smcAC        167 non-null    float64\n",
      " 8   smcDC        167 non-null    float64\n",
      " 9   vib_table    167 non-null    float64\n",
      " 10  vib_spindle  167 non-null    float64\n",
      " 11  AE_table     167 non-null    float64\n",
      " 12  AE_spindle   167 non-null    float64\n",
      "dtypes: float64(9), int64(4)\n",
      "memory usage: 18.3+ KB\n"
     ]
    }
   ],
   "source": [
    "df.info()"
   ]
  },
  {
   "cell_type": "code",
   "execution_count": 46,
   "metadata": {},
   "outputs": [],
   "source": [
    "df.reset_index(drop=True, inplace=True)"
   ]
  },
  {
   "cell_type": "code",
   "execution_count": 47,
   "metadata": {},
   "outputs": [
    {
     "data": {
      "text/html": [
       "<div>\n",
       "<style scoped>\n",
       "    .dataframe tbody tr th:only-of-type {\n",
       "        vertical-align: middle;\n",
       "    }\n",
       "\n",
       "    .dataframe tbody tr th {\n",
       "        vertical-align: top;\n",
       "    }\n",
       "\n",
       "    .dataframe thead th {\n",
       "        text-align: right;\n",
       "    }\n",
       "</style>\n",
       "<table border=\"1\" class=\"dataframe\">\n",
       "  <thead>\n",
       "    <tr style=\"text-align: right;\">\n",
       "      <th></th>\n",
       "      <th>case</th>\n",
       "      <th>run</th>\n",
       "      <th>VB</th>\n",
       "      <th>time</th>\n",
       "      <th>DOC</th>\n",
       "      <th>feed</th>\n",
       "      <th>material</th>\n",
       "      <th>smcAC</th>\n",
       "      <th>smcDC</th>\n",
       "      <th>vib_table</th>\n",
       "      <th>vib_spindle</th>\n",
       "      <th>AE_table</th>\n",
       "      <th>AE_spindle</th>\n",
       "    </tr>\n",
       "  </thead>\n",
       "  <tbody>\n",
       "    <tr>\n",
       "      <th>0</th>\n",
       "      <td>1</td>\n",
       "      <td>1</td>\n",
       "      <td>0.00</td>\n",
       "      <td>2</td>\n",
       "      <td>1.5</td>\n",
       "      <td>0.5</td>\n",
       "      <td>1</td>\n",
       "      <td>-0.017090</td>\n",
       "      <td>0.625000</td>\n",
       "      <td>0.078125</td>\n",
       "      <td>0.314941</td>\n",
       "      <td>0.087280</td>\n",
       "      <td>0.103760</td>\n",
       "    </tr>\n",
       "    <tr>\n",
       "      <th>1</th>\n",
       "      <td>1</td>\n",
       "      <td>2</td>\n",
       "      <td>NaN</td>\n",
       "      <td>4</td>\n",
       "      <td>1.5</td>\n",
       "      <td>0.5</td>\n",
       "      <td>1</td>\n",
       "      <td>0.307617</td>\n",
       "      <td>0.668945</td>\n",
       "      <td>0.075684</td>\n",
       "      <td>0.301514</td>\n",
       "      <td>0.086670</td>\n",
       "      <td>0.099487</td>\n",
       "    </tr>\n",
       "    <tr>\n",
       "      <th>2</th>\n",
       "      <td>1</td>\n",
       "      <td>3</td>\n",
       "      <td>NaN</td>\n",
       "      <td>6</td>\n",
       "      <td>1.5</td>\n",
       "      <td>0.5</td>\n",
       "      <td>1</td>\n",
       "      <td>-0.725098</td>\n",
       "      <td>0.913086</td>\n",
       "      <td>0.083008</td>\n",
       "      <td>0.295410</td>\n",
       "      <td>0.092773</td>\n",
       "      <td>0.104980</td>\n",
       "    </tr>\n",
       "    <tr>\n",
       "      <th>3</th>\n",
       "      <td>1</td>\n",
       "      <td>4</td>\n",
       "      <td>0.11</td>\n",
       "      <td>7</td>\n",
       "      <td>1.5</td>\n",
       "      <td>0.5</td>\n",
       "      <td>1</td>\n",
       "      <td>0.112305</td>\n",
       "      <td>0.131836</td>\n",
       "      <td>0.083008</td>\n",
       "      <td>0.316162</td>\n",
       "      <td>0.112915</td>\n",
       "      <td>0.139771</td>\n",
       "    </tr>\n",
       "    <tr>\n",
       "      <th>4</th>\n",
       "      <td>1</td>\n",
       "      <td>5</td>\n",
       "      <td>NaN</td>\n",
       "      <td>11</td>\n",
       "      <td>1.5</td>\n",
       "      <td>0.5</td>\n",
       "      <td>1</td>\n",
       "      <td>-0.122070</td>\n",
       "      <td>0.449219</td>\n",
       "      <td>0.107422</td>\n",
       "      <td>0.284424</td>\n",
       "      <td>0.095825</td>\n",
       "      <td>0.110474</td>\n",
       "    </tr>\n",
       "  </tbody>\n",
       "</table>\n",
       "</div>"
      ],
      "text/plain": [
       "   case  run    VB  time  DOC  feed  material     smcAC     smcDC  vib_table  \\\n",
       "0     1    1  0.00     2  1.5   0.5         1 -0.017090  0.625000   0.078125   \n",
       "1     1    2   NaN     4  1.5   0.5         1  0.307617  0.668945   0.075684   \n",
       "2     1    3   NaN     6  1.5   0.5         1 -0.725098  0.913086   0.083008   \n",
       "3     1    4  0.11     7  1.5   0.5         1  0.112305  0.131836   0.083008   \n",
       "4     1    5   NaN    11  1.5   0.5         1 -0.122070  0.449219   0.107422   \n",
       "\n",
       "   vib_spindle  AE_table  AE_spindle  \n",
       "0     0.314941  0.087280    0.103760  \n",
       "1     0.301514  0.086670    0.099487  \n",
       "2     0.295410  0.092773    0.104980  \n",
       "3     0.316162  0.112915    0.139771  \n",
       "4     0.284424  0.095825    0.110474  "
      ]
     },
     "execution_count": 47,
     "metadata": {},
     "output_type": "execute_result"
    }
   ],
   "source": [
    "df.head(5)"
   ]
  },
  {
   "cell_type": "code",
   "execution_count": 48,
   "metadata": {},
   "outputs": [
    {
     "data": {
      "text/plain": [
       "21"
      ]
     },
     "execution_count": 48,
     "metadata": {},
     "output_type": "execute_result"
    }
   ],
   "source": [
    "df[\"VB\"].isnull().sum()"
   ]
  },
  {
   "cell_type": "code",
   "execution_count": 49,
   "metadata": {},
   "outputs": [],
   "source": [
    "df.dropna(axis=0, inplace=True)"
   ]
  },
  {
   "cell_type": "code",
   "execution_count": 50,
   "metadata": {},
   "outputs": [
    {
     "data": {
      "text/plain": [
       "case           0.253373\n",
       "run            0.625733\n",
       "VB             1.000000\n",
       "time           0.509063\n",
       "DOC           -0.033653\n",
       "feed          -0.019937\n",
       "material       0.261415\n",
       "smcAC         -0.059403\n",
       "smcDC          0.149946\n",
       "vib_table     -0.110606\n",
       "vib_spindle   -0.254839\n",
       "AE_table       0.011542\n",
       "AE_spindle    -0.149821\n",
       "Name: VB, dtype: float64"
      ]
     },
     "execution_count": 50,
     "metadata": {},
     "output_type": "execute_result"
    }
   ],
   "source": [
    "df.corr()[\"VB\"]"
   ]
  },
  {
   "cell_type": "code",
   "execution_count": 51,
   "metadata": {},
   "outputs": [
    {
     "data": {
      "text/html": [
       "<div>\n",
       "<style scoped>\n",
       "    .dataframe tbody tr th:only-of-type {\n",
       "        vertical-align: middle;\n",
       "    }\n",
       "\n",
       "    .dataframe tbody tr th {\n",
       "        vertical-align: top;\n",
       "    }\n",
       "\n",
       "    .dataframe thead th {\n",
       "        text-align: right;\n",
       "    }\n",
       "</style>\n",
       "<table border=\"1\" class=\"dataframe\">\n",
       "  <thead>\n",
       "    <tr style=\"text-align: right;\">\n",
       "      <th></th>\n",
       "      <th>case</th>\n",
       "      <th>run</th>\n",
       "      <th>VB</th>\n",
       "      <th>time</th>\n",
       "      <th>DOC</th>\n",
       "      <th>feed</th>\n",
       "      <th>material</th>\n",
       "      <th>smcAC</th>\n",
       "      <th>smcDC</th>\n",
       "      <th>vib_table</th>\n",
       "      <th>vib_spindle</th>\n",
       "      <th>AE_table</th>\n",
       "      <th>AE_spindle</th>\n",
       "    </tr>\n",
       "  </thead>\n",
       "  <tbody>\n",
       "    <tr>\n",
       "      <th>0</th>\n",
       "      <td>1</td>\n",
       "      <td>1</td>\n",
       "      <td>0.00</td>\n",
       "      <td>2</td>\n",
       "      <td>1.5</td>\n",
       "      <td>0.5</td>\n",
       "      <td>1</td>\n",
       "      <td>-0.017090</td>\n",
       "      <td>0.625000</td>\n",
       "      <td>0.078125</td>\n",
       "      <td>0.314941</td>\n",
       "      <td>0.087280</td>\n",
       "      <td>0.103760</td>\n",
       "    </tr>\n",
       "    <tr>\n",
       "      <th>3</th>\n",
       "      <td>1</td>\n",
       "      <td>4</td>\n",
       "      <td>0.11</td>\n",
       "      <td>7</td>\n",
       "      <td>1.5</td>\n",
       "      <td>0.5</td>\n",
       "      <td>1</td>\n",
       "      <td>0.112305</td>\n",
       "      <td>0.131836</td>\n",
       "      <td>0.083008</td>\n",
       "      <td>0.316162</td>\n",
       "      <td>0.112915</td>\n",
       "      <td>0.139771</td>\n",
       "    </tr>\n",
       "    <tr>\n",
       "      <th>5</th>\n",
       "      <td>1</td>\n",
       "      <td>6</td>\n",
       "      <td>0.20</td>\n",
       "      <td>15</td>\n",
       "      <td>1.5</td>\n",
       "      <td>0.5</td>\n",
       "      <td>1</td>\n",
       "      <td>0.329590</td>\n",
       "      <td>0.683594</td>\n",
       "      <td>0.070801</td>\n",
       "      <td>0.307617</td>\n",
       "      <td>0.103760</td>\n",
       "      <td>0.120239</td>\n",
       "    </tr>\n",
       "    <tr>\n",
       "      <th>6</th>\n",
       "      <td>1</td>\n",
       "      <td>7</td>\n",
       "      <td>0.24</td>\n",
       "      <td>19</td>\n",
       "      <td>1.5</td>\n",
       "      <td>0.5</td>\n",
       "      <td>1</td>\n",
       "      <td>-0.578613</td>\n",
       "      <td>1.381836</td>\n",
       "      <td>0.065918</td>\n",
       "      <td>0.322266</td>\n",
       "      <td>0.090942</td>\n",
       "      <td>0.123901</td>\n",
       "    </tr>\n",
       "    <tr>\n",
       "      <th>7</th>\n",
       "      <td>1</td>\n",
       "      <td>8</td>\n",
       "      <td>0.29</td>\n",
       "      <td>22</td>\n",
       "      <td>1.5</td>\n",
       "      <td>0.5</td>\n",
       "      <td>1</td>\n",
       "      <td>0.300293</td>\n",
       "      <td>1.435547</td>\n",
       "      <td>0.061035</td>\n",
       "      <td>0.308838</td>\n",
       "      <td>0.092773</td>\n",
       "      <td>0.108643</td>\n",
       "    </tr>\n",
       "  </tbody>\n",
       "</table>\n",
       "</div>"
      ],
      "text/plain": [
       "   case  run    VB  time  DOC  feed  material     smcAC     smcDC  vib_table  \\\n",
       "0     1    1  0.00     2  1.5   0.5         1 -0.017090  0.625000   0.078125   \n",
       "3     1    4  0.11     7  1.5   0.5         1  0.112305  0.131836   0.083008   \n",
       "5     1    6  0.20    15  1.5   0.5         1  0.329590  0.683594   0.070801   \n",
       "6     1    7  0.24    19  1.5   0.5         1 -0.578613  1.381836   0.065918   \n",
       "7     1    8  0.29    22  1.5   0.5         1  0.300293  1.435547   0.061035   \n",
       "\n",
       "   vib_spindle  AE_table  AE_spindle  \n",
       "0     0.314941  0.087280    0.103760  \n",
       "3     0.316162  0.112915    0.139771  \n",
       "5     0.307617  0.103760    0.120239  \n",
       "6     0.322266  0.090942    0.123901  \n",
       "7     0.308838  0.092773    0.108643  "
      ]
     },
     "execution_count": 51,
     "metadata": {},
     "output_type": "execute_result"
    }
   ],
   "source": [
    "df.head(5)"
   ]
  },
  {
   "cell_type": "code",
   "execution_count": 52,
   "metadata": {},
   "outputs": [],
   "source": [
    "df.reset_index(drop=True , inplace=True)"
   ]
  },
  {
   "cell_type": "code",
   "execution_count": 53,
   "metadata": {},
   "outputs": [
    {
     "data": {
      "text/html": [
       "<div>\n",
       "<style scoped>\n",
       "    .dataframe tbody tr th:only-of-type {\n",
       "        vertical-align: middle;\n",
       "    }\n",
       "\n",
       "    .dataframe tbody tr th {\n",
       "        vertical-align: top;\n",
       "    }\n",
       "\n",
       "    .dataframe thead th {\n",
       "        text-align: right;\n",
       "    }\n",
       "</style>\n",
       "<table border=\"1\" class=\"dataframe\">\n",
       "  <thead>\n",
       "    <tr style=\"text-align: right;\">\n",
       "      <th></th>\n",
       "      <th>case</th>\n",
       "      <th>run</th>\n",
       "      <th>VB</th>\n",
       "      <th>time</th>\n",
       "      <th>DOC</th>\n",
       "      <th>feed</th>\n",
       "      <th>material</th>\n",
       "      <th>smcAC</th>\n",
       "      <th>smcDC</th>\n",
       "      <th>vib_table</th>\n",
       "      <th>vib_spindle</th>\n",
       "      <th>AE_table</th>\n",
       "      <th>AE_spindle</th>\n",
       "    </tr>\n",
       "  </thead>\n",
       "  <tbody>\n",
       "    <tr>\n",
       "      <th>0</th>\n",
       "      <td>1</td>\n",
       "      <td>1</td>\n",
       "      <td>0.00</td>\n",
       "      <td>2</td>\n",
       "      <td>1.5</td>\n",
       "      <td>0.5</td>\n",
       "      <td>1</td>\n",
       "      <td>-0.017090</td>\n",
       "      <td>0.625000</td>\n",
       "      <td>0.078125</td>\n",
       "      <td>0.314941</td>\n",
       "      <td>0.087280</td>\n",
       "      <td>0.103760</td>\n",
       "    </tr>\n",
       "    <tr>\n",
       "      <th>1</th>\n",
       "      <td>1</td>\n",
       "      <td>4</td>\n",
       "      <td>0.11</td>\n",
       "      <td>7</td>\n",
       "      <td>1.5</td>\n",
       "      <td>0.5</td>\n",
       "      <td>1</td>\n",
       "      <td>0.112305</td>\n",
       "      <td>0.131836</td>\n",
       "      <td>0.083008</td>\n",
       "      <td>0.316162</td>\n",
       "      <td>0.112915</td>\n",
       "      <td>0.139771</td>\n",
       "    </tr>\n",
       "    <tr>\n",
       "      <th>2</th>\n",
       "      <td>1</td>\n",
       "      <td>6</td>\n",
       "      <td>0.20</td>\n",
       "      <td>15</td>\n",
       "      <td>1.5</td>\n",
       "      <td>0.5</td>\n",
       "      <td>1</td>\n",
       "      <td>0.329590</td>\n",
       "      <td>0.683594</td>\n",
       "      <td>0.070801</td>\n",
       "      <td>0.307617</td>\n",
       "      <td>0.103760</td>\n",
       "      <td>0.120239</td>\n",
       "    </tr>\n",
       "    <tr>\n",
       "      <th>3</th>\n",
       "      <td>1</td>\n",
       "      <td>7</td>\n",
       "      <td>0.24</td>\n",
       "      <td>19</td>\n",
       "      <td>1.5</td>\n",
       "      <td>0.5</td>\n",
       "      <td>1</td>\n",
       "      <td>-0.578613</td>\n",
       "      <td>1.381836</td>\n",
       "      <td>0.065918</td>\n",
       "      <td>0.322266</td>\n",
       "      <td>0.090942</td>\n",
       "      <td>0.123901</td>\n",
       "    </tr>\n",
       "    <tr>\n",
       "      <th>4</th>\n",
       "      <td>1</td>\n",
       "      <td>8</td>\n",
       "      <td>0.29</td>\n",
       "      <td>22</td>\n",
       "      <td>1.5</td>\n",
       "      <td>0.5</td>\n",
       "      <td>1</td>\n",
       "      <td>0.300293</td>\n",
       "      <td>1.435547</td>\n",
       "      <td>0.061035</td>\n",
       "      <td>0.308838</td>\n",
       "      <td>0.092773</td>\n",
       "      <td>0.108643</td>\n",
       "    </tr>\n",
       "  </tbody>\n",
       "</table>\n",
       "</div>"
      ],
      "text/plain": [
       "   case  run    VB  time  DOC  feed  material     smcAC     smcDC  vib_table  \\\n",
       "0     1    1  0.00     2  1.5   0.5         1 -0.017090  0.625000   0.078125   \n",
       "1     1    4  0.11     7  1.5   0.5         1  0.112305  0.131836   0.083008   \n",
       "2     1    6  0.20    15  1.5   0.5         1  0.329590  0.683594   0.070801   \n",
       "3     1    7  0.24    19  1.5   0.5         1 -0.578613  1.381836   0.065918   \n",
       "4     1    8  0.29    22  1.5   0.5         1  0.300293  1.435547   0.061035   \n",
       "\n",
       "   vib_spindle  AE_table  AE_spindle  \n",
       "0     0.314941  0.087280    0.103760  \n",
       "1     0.316162  0.112915    0.139771  \n",
       "2     0.307617  0.103760    0.120239  \n",
       "3     0.322266  0.090942    0.123901  \n",
       "4     0.308838  0.092773    0.108643  "
      ]
     },
     "execution_count": 53,
     "metadata": {},
     "output_type": "execute_result"
    }
   ],
   "source": [
    "df.head(5)"
   ]
  },
  {
   "cell_type": "code",
   "execution_count": 54,
   "metadata": {},
   "outputs": [],
   "source": [
    "df.drop(\"case\", axis=1, inplace=True)"
   ]
  },
  {
   "cell_type": "code",
   "execution_count": null,
   "metadata": {},
   "outputs": [],
   "source": [
    "df.drop(\"run\", axis=1, inplace=True)"
   ]
  },
  {
   "cell_type": "code",
   "execution_count": 71,
   "metadata": {},
   "outputs": [
    {
     "data": {
      "text/html": [
       "<div>\n",
       "<style scoped>\n",
       "    .dataframe tbody tr th:only-of-type {\n",
       "        vertical-align: middle;\n",
       "    }\n",
       "\n",
       "    .dataframe tbody tr th {\n",
       "        vertical-align: top;\n",
       "    }\n",
       "\n",
       "    .dataframe thead th {\n",
       "        text-align: right;\n",
       "    }\n",
       "</style>\n",
       "<table border=\"1\" class=\"dataframe\">\n",
       "  <thead>\n",
       "    <tr style=\"text-align: right;\">\n",
       "      <th></th>\n",
       "      <th>VB</th>\n",
       "      <th>time</th>\n",
       "      <th>DOC</th>\n",
       "      <th>feed</th>\n",
       "      <th>material</th>\n",
       "      <th>smcAC</th>\n",
       "      <th>smcDC</th>\n",
       "      <th>vib_table</th>\n",
       "      <th>vib_spindle</th>\n",
       "      <th>AE_table</th>\n",
       "      <th>AE_spindle</th>\n",
       "    </tr>\n",
       "  </thead>\n",
       "  <tbody>\n",
       "    <tr>\n",
       "      <th>0</th>\n",
       "      <td>0.00</td>\n",
       "      <td>2</td>\n",
       "      <td>1.5</td>\n",
       "      <td>0.5</td>\n",
       "      <td>1</td>\n",
       "      <td>-0.017090</td>\n",
       "      <td>0.625000</td>\n",
       "      <td>0.078125</td>\n",
       "      <td>0.314941</td>\n",
       "      <td>0.087280</td>\n",
       "      <td>0.103760</td>\n",
       "    </tr>\n",
       "    <tr>\n",
       "      <th>1</th>\n",
       "      <td>0.11</td>\n",
       "      <td>7</td>\n",
       "      <td>1.5</td>\n",
       "      <td>0.5</td>\n",
       "      <td>1</td>\n",
       "      <td>0.112305</td>\n",
       "      <td>0.131836</td>\n",
       "      <td>0.083008</td>\n",
       "      <td>0.316162</td>\n",
       "      <td>0.112915</td>\n",
       "      <td>0.139771</td>\n",
       "    </tr>\n",
       "    <tr>\n",
       "      <th>2</th>\n",
       "      <td>0.20</td>\n",
       "      <td>15</td>\n",
       "      <td>1.5</td>\n",
       "      <td>0.5</td>\n",
       "      <td>1</td>\n",
       "      <td>0.329590</td>\n",
       "      <td>0.683594</td>\n",
       "      <td>0.070801</td>\n",
       "      <td>0.307617</td>\n",
       "      <td>0.103760</td>\n",
       "      <td>0.120239</td>\n",
       "    </tr>\n",
       "    <tr>\n",
       "      <th>3</th>\n",
       "      <td>0.24</td>\n",
       "      <td>19</td>\n",
       "      <td>1.5</td>\n",
       "      <td>0.5</td>\n",
       "      <td>1</td>\n",
       "      <td>-0.578613</td>\n",
       "      <td>1.381836</td>\n",
       "      <td>0.065918</td>\n",
       "      <td>0.322266</td>\n",
       "      <td>0.090942</td>\n",
       "      <td>0.123901</td>\n",
       "    </tr>\n",
       "    <tr>\n",
       "      <th>4</th>\n",
       "      <td>0.29</td>\n",
       "      <td>22</td>\n",
       "      <td>1.5</td>\n",
       "      <td>0.5</td>\n",
       "      <td>1</td>\n",
       "      <td>0.300293</td>\n",
       "      <td>1.435547</td>\n",
       "      <td>0.061035</td>\n",
       "      <td>0.308838</td>\n",
       "      <td>0.092773</td>\n",
       "      <td>0.108643</td>\n",
       "    </tr>\n",
       "  </tbody>\n",
       "</table>\n",
       "</div>"
      ],
      "text/plain": [
       "     VB  time  DOC  feed  material     smcAC     smcDC  vib_table  \\\n",
       "0  0.00     2  1.5   0.5         1 -0.017090  0.625000   0.078125   \n",
       "1  0.11     7  1.5   0.5         1  0.112305  0.131836   0.083008   \n",
       "2  0.20    15  1.5   0.5         1  0.329590  0.683594   0.070801   \n",
       "3  0.24    19  1.5   0.5         1 -0.578613  1.381836   0.065918   \n",
       "4  0.29    22  1.5   0.5         1  0.300293  1.435547   0.061035   \n",
       "\n",
       "   vib_spindle  AE_table  AE_spindle  \n",
       "0     0.314941  0.087280    0.103760  \n",
       "1     0.316162  0.112915    0.139771  \n",
       "2     0.307617  0.103760    0.120239  \n",
       "3     0.322266  0.090942    0.123901  \n",
       "4     0.308838  0.092773    0.108643  "
      ]
     },
     "execution_count": 71,
     "metadata": {},
     "output_type": "execute_result"
    }
   ],
   "source": [
    "df.head(5)"
   ]
  },
  {
   "cell_type": "code",
   "execution_count": null,
   "metadata": {},
   "outputs": [],
   "source": []
  },
  {
   "cell_type": "code",
   "execution_count": null,
   "metadata": {},
   "outputs": [],
   "source": []
  },
  {
   "cell_type": "markdown",
   "metadata": {},
   "source": [
    "# Visualisations"
   ]
  },
  {
   "cell_type": "code",
   "execution_count": 59,
   "metadata": {},
   "outputs": [
    {
     "data": {
      "text/plain": [
       "<matplotlib.axes._subplots.AxesSubplot at 0x1c01501f748>"
      ]
     },
     "execution_count": 59,
     "metadata": {},
     "output_type": "execute_result"
    },
    {
     "data": {
      "image/png": "[encoded data removed]",
      "text/plain": [
       "<Figure size 432x288 with 1 Axes>"
      ]
     },
     "metadata": {
      "needs_background": "light"
     },
     "output_type": "display_data"
    }
   ],
   "source": [
    "sns.countplot(x=\"material\", data=df)"
   ]
  },
  {
   "cell_type": "code",
   "execution_count": 60,
   "metadata": {},
   "outputs": [
    {
     "data": {
      "text/plain": [
       "<matplotlib.axes._subplots.AxesSubplot at 0x1c024adb288>"
      ]
     },
     "execution_count": 60,
     "metadata": {},
     "output_type": "execute_result"
    },
    {
     "data": {
      "image/png": "[encoded data removed]",
      "text/plain": [
       "<Figure size 432x288 with 1 Axes>"
      ]
     },
     "metadata": {
      "needs_background": "light"
     },
     "output_type": "display_data"
    }
   ],
   "source": [
    "sns.distplot(df[\"VB\"])"
   ]
  },
  {
   "cell_type": "code",
   "execution_count": 58,
   "metadata": {},
   "outputs": [
    {
     "data": {
      "text/plain": [
       "<matplotlib.axes._subplots.AxesSubplot at 0x1c024842208>"
      ]
     },
     "execution_count": 58,
     "metadata": {},
     "output_type": "execute_result"
    },
    {
     "data": {
      "image/png": "[encoded data removed]",
      "text/plain": [
       "<Figure size 432x288 with 1 Axes>"
      ]
     },
     "metadata": {
      "needs_background": "light"
     },
     "output_type": "display_data"
    }
   ],
   "source": [
    "sns.scatterplot(x=\"VB\" , y=\"material\", data=df)"
   ]
  },
  {
   "cell_type": "markdown",
   "metadata": {},
   "source": [
    "# Training and setting up the model"
   ]
  },
  {
   "cell_type": "code",
   "execution_count": 73,
   "metadata": {},
   "outputs": [
    {
     "data": {
      "text/html": [
       "<div>\n",
       "<style scoped>\n",
       "    .dataframe tbody tr th:only-of-type {\n",
       "        vertical-align: middle;\n",
       "    }\n",
       "\n",
       "    .dataframe tbody tr th {\n",
       "        vertical-align: top;\n",
       "    }\n",
       "\n",
       "    .dataframe thead th {\n",
       "        text-align: right;\n",
       "    }\n",
       "</style>\n",
       "<table border=\"1\" class=\"dataframe\">\n",
       "  <thead>\n",
       "    <tr style=\"text-align: right;\">\n",
       "      <th></th>\n",
       "      <th>VB</th>\n",
       "      <th>time</th>\n",
       "      <th>DOC</th>\n",
       "      <th>feed</th>\n",
       "      <th>material</th>\n",
       "      <th>smcAC</th>\n",
       "      <th>smcDC</th>\n",
       "      <th>vib_table</th>\n",
       "      <th>vib_spindle</th>\n",
       "      <th>AE_table</th>\n",
       "      <th>AE_spindle</th>\n",
       "    </tr>\n",
       "  </thead>\n",
       "  <tbody>\n",
       "    <tr>\n",
       "      <th>0</th>\n",
       "      <td>0.00</td>\n",
       "      <td>2</td>\n",
       "      <td>1.5</td>\n",
       "      <td>0.5</td>\n",
       "      <td>1</td>\n",
       "      <td>-0.017090</td>\n",
       "      <td>0.625000</td>\n",
       "      <td>0.078125</td>\n",
       "      <td>0.314941</td>\n",
       "      <td>0.087280</td>\n",
       "      <td>0.103760</td>\n",
       "    </tr>\n",
       "    <tr>\n",
       "      <th>1</th>\n",
       "      <td>0.11</td>\n",
       "      <td>7</td>\n",
       "      <td>1.5</td>\n",
       "      <td>0.5</td>\n",
       "      <td>1</td>\n",
       "      <td>0.112305</td>\n",
       "      <td>0.131836</td>\n",
       "      <td>0.083008</td>\n",
       "      <td>0.316162</td>\n",
       "      <td>0.112915</td>\n",
       "      <td>0.139771</td>\n",
       "    </tr>\n",
       "    <tr>\n",
       "      <th>2</th>\n",
       "      <td>0.20</td>\n",
       "      <td>15</td>\n",
       "      <td>1.5</td>\n",
       "      <td>0.5</td>\n",
       "      <td>1</td>\n",
       "      <td>0.329590</td>\n",
       "      <td>0.683594</td>\n",
       "      <td>0.070801</td>\n",
       "      <td>0.307617</td>\n",
       "      <td>0.103760</td>\n",
       "      <td>0.120239</td>\n",
       "    </tr>\n",
       "  </tbody>\n",
       "</table>\n",
       "</div>"
      ],
      "text/plain": [
       "     VB  time  DOC  feed  material     smcAC     smcDC  vib_table  \\\n",
       "0  0.00     2  1.5   0.5         1 -0.017090  0.625000   0.078125   \n",
       "1  0.11     7  1.5   0.5         1  0.112305  0.131836   0.083008   \n",
       "2  0.20    15  1.5   0.5         1  0.329590  0.683594   0.070801   \n",
       "\n",
       "   vib_spindle  AE_table  AE_spindle  \n",
       "0     0.314941  0.087280    0.103760  \n",
       "1     0.316162  0.112915    0.139771  \n",
       "2     0.307617  0.103760    0.120239  "
      ]
     },
     "execution_count": 73,
     "metadata": {},
     "output_type": "execute_result"
    }
   ],
   "source": [
    "df.head(3)"
   ]
  },
  {
   "cell_type": "code",
   "execution_count": 74,
   "metadata": {},
   "outputs": [],
   "source": [
    "X = df.drop(\"VB\", axis=1).values\n",
    "y = df[\"VB\"].values"
   ]
  },
  {
   "cell_type": "code",
   "execution_count": 75,
   "metadata": {},
   "outputs": [],
   "source": [
    "from sklearn.model_selection import train_test_split"
   ]
  },
  {
   "cell_type": "code",
   "execution_count": 76,
   "metadata": {},
   "outputs": [],
   "source": [
    "X_train, X_test, y_train, y_test = train_test_split( X, y, test_size=0.3, random_state=101)"
   ]
  },
  {
   "cell_type": "code",
   "execution_count": 78,
   "metadata": {},
   "outputs": [],
   "source": [
    "from sklearn.preprocessing import MinMaxScaler"
   ]
  },
  {
   "cell_type": "code",
   "execution_count": 79,
   "metadata": {},
   "outputs": [],
   "source": [
    "scaler = MinMaxScaler()"
   ]
  },
  {
   "cell_type": "code",
   "execution_count": 80,
   "metadata": {},
   "outputs": [],
   "source": [
    "X_train = scaler.fit_transform(X_train)"
   ]
  },
  {
   "cell_type": "code",
   "execution_count": 81,
   "metadata": {},
   "outputs": [],
   "source": [
    "X_test = scaler.transform(X_test)"
   ]
  },
  {
   "cell_type": "code",
   "execution_count": 85,
   "metadata": {},
   "outputs": [],
   "source": [
    "from tensorflow.kerasras.models import Sequential"
   ]
  },
  {
   "cell_type": "code",
   "execution_count": 86,
   "metadata": {},
   "outputs": [],
   "source": [
    "from tensorflow.keras.layers import Dense"
   ]
  },
  {
   "cell_type": "code",
   "execution_count": 87,
   "metadata": {},
   "outputs": [
    {
     "data": {
      "text/plain": [
       "(102, 10)"
      ]
     },
     "execution_count": 87,
     "metadata": {},
     "output_type": "execute_result"
    }
   ],
   "source": [
    "X_train.shape"
   ]
  },
  {
   "cell_type": "code",
   "execution_count": 88,
   "metadata": {},
   "outputs": [
    {
     "name": "stdout",
     "output_type": "stream",
     "text": [
      "WARNING:tensorflow:From D:\\ANACONDA\\lib\\site-packages\\tensorflow\\python\\ops\\init_ops.py:1251: calling VarianceScaling.__init__ (from tensorflow.python.ops.init_ops) with dtype is deprecated and will be removed in a future version.\n",
      "Instructions for updating:\n",
      "Call initializer instance with the dtype argument instead of passing it to the constructor\n"
     ]
    }
   ],
   "source": [
    "model = Sequential()\n",
    "\n",
    "model.add(Dense(10,activation=\"relu\"))\n",
    "model.add(Dense(10,activation=\"relu\"))\n",
    "model.add(Dense(10,activation=\"relu\"))\n",
    "model.add(Dense(10,activation=\"relu\"))\n",
    "\n",
    "model.add(Dense(1))\n",
    "model.compile (optimizer=\"adam\" , loss=\"mse\")\n"
   ]
  },
  {
   "cell_type": "code",
   "execution_count": 89,
   "metadata": {},
   "outputs": [],
   "source": [
    "from tensorflow.keras.callbacks import EarlyStopping"
   ]
  },
  {
   "cell_type": "code",
   "execution_count": 90,
   "metadata": {},
   "outputs": [],
   "source": [
    "early_stop = EarlyStopping(monitor='val_loss', mode=\"min\" , verbose=1, patience=25)"
   ]
  },
  {
   "cell_type": "code",
   "execution_count": 91,
   "metadata": {},
   "outputs": [
    {
     "name": "stdout",
     "output_type": "stream",
     "text": [
      "Train on 102 samples, validate on 44 samples\n",
      "Epoch 1/400\n",
      "102/102 [==============================] - 1s 6ms/sample - loss: 0.1595 - val_loss: 0.1531\n",
      "Epoch 2/400\n",
      "102/102 [==============================] - 0s 127us/sample - loss: 0.1441 - val_loss: 0.1383\n",
      "Epoch 3/400\n",
      "102/102 [==============================] - 0s 147us/sample - loss: 0.1290 - val_loss: 0.1236\n",
      "Epoch 4/400\n",
      "102/102 [==============================] - 0s 137us/sample - loss: 0.1135 - val_loss: 0.1099\n",
      "Epoch 5/400\n",
      "102/102 [==============================] - 0s 137us/sample - loss: 0.0992 - val_loss: 0.0976\n",
      "Epoch 6/400\n",
      "102/102 [==============================] - 0s 157us/sample - loss: 0.0857 - val_loss: 0.0885\n",
      "Epoch 7/400\n",
      "102/102 [==============================] - 0s 255us/sample - loss: 0.0777 - val_loss: 0.0830\n",
      "Epoch 8/400\n",
      "102/102 [==============================] - 0s 137us/sample - loss: 0.0725 - val_loss: 0.0805\n",
      "Epoch 9/400\n",
      "102/102 [==============================] - 0s 176us/sample - loss: 0.0688 - val_loss: 0.0791\n",
      "Epoch 10/400\n",
      "102/102 [==============================] - 0s 137us/sample - loss: 0.0669 - val_loss: 0.0780\n",
      "Epoch 11/400\n",
      "102/102 [==============================] - 0s 176us/sample - loss: 0.0660 - val_loss: 0.0767\n",
      "Epoch 12/400\n",
      "102/102 [==============================] - 0s 137us/sample - loss: 0.0649 - val_loss: 0.0748\n",
      "Epoch 13/400\n",
      "102/102 [==============================] - 0s 137us/sample - loss: 0.0632 - val_loss: 0.0723\n",
      "Epoch 14/400\n",
      "102/102 [==============================] - 0s 225us/sample - loss: 0.0611 - val_loss: 0.0703\n",
      "Epoch 15/400\n",
      "102/102 [==============================] - 0s 147us/sample - loss: 0.0599 - val_loss: 0.0688\n",
      "Epoch 16/400\n",
      "102/102 [==============================] - 0s 157us/sample - loss: 0.0586 - val_loss: 0.0674\n",
      "Epoch 17/400\n",
      "102/102 [==============================] - 0s 137us/sample - loss: 0.0577 - val_loss: 0.0660\n",
      "Epoch 18/400\n",
      "102/102 [==============================] - 0s 294us/sample - loss: 0.0566 - val_loss: 0.0641\n",
      "Epoch 19/400\n",
      "102/102 [==============================] - 0s 157us/sample - loss: 0.0555 - val_loss: 0.0621\n",
      "Epoch 20/400\n",
      "102/102 [==============================] - 0s 176us/sample - loss: 0.0546 - val_loss: 0.0601\n",
      "Epoch 21/400\n",
      "102/102 [==============================] - 0s 137us/sample - loss: 0.0536 - val_loss: 0.0583\n",
      "Epoch 22/400\n",
      "102/102 [==============================] - 0s 166us/sample - loss: 0.0532 - val_loss: 0.0569\n",
      "Epoch 23/400\n",
      "102/102 [==============================] - 0s 167us/sample - loss: 0.0527 - val_loss: 0.0553\n",
      "Epoch 24/400\n",
      "102/102 [==============================] - 0s 157us/sample - loss: 0.0514 - val_loss: 0.0538\n",
      "Epoch 25/400\n",
      "102/102 [==============================] - 0s 176us/sample - loss: 0.0505 - val_loss: 0.0526\n",
      "Epoch 26/400\n",
      "102/102 [==============================] - 0s 127us/sample - loss: 0.0492 - val_loss: 0.0517\n",
      "Epoch 27/400\n",
      "102/102 [==============================] - 0s 157us/sample - loss: 0.0484 - val_loss: 0.0514\n",
      "Epoch 28/400\n",
      "102/102 [==============================] - 0s 147us/sample - loss: 0.0479 - val_loss: 0.0504\n",
      "Epoch 29/400\n",
      "102/102 [==============================] - 0s 127us/sample - loss: 0.0470 - val_loss: 0.0490\n",
      "Epoch 30/400\n",
      "102/102 [==============================] - 0s 176us/sample - loss: 0.0460 - val_loss: 0.0478\n",
      "Epoch 31/400\n",
      "102/102 [==============================] - 0s 167us/sample - loss: 0.0449 - val_loss: 0.0462\n",
      "Epoch 32/400\n",
      "102/102 [==============================] - 0s 137us/sample - loss: 0.0439 - val_loss: 0.0449\n",
      "Epoch 33/400\n",
      "102/102 [==============================] - 0s 127us/sample - loss: 0.0429 - val_loss: 0.0440\n",
      "Epoch 34/400\n",
      "102/102 [==============================] - 0s 167us/sample - loss: 0.0418 - val_loss: 0.0435\n",
      "Epoch 35/400\n",
      "102/102 [==============================] - 0s 118us/sample - loss: 0.0406 - val_loss: 0.0436\n",
      "Epoch 36/400\n",
      "102/102 [==============================] - 0s 167us/sample - loss: 0.0399 - val_loss: 0.0429\n",
      "Epoch 37/400\n",
      "102/102 [==============================] - 0s 176us/sample - loss: 0.0388 - val_loss: 0.0410\n",
      "Epoch 38/400\n",
      "102/102 [==============================] - 0s 167us/sample - loss: 0.0380 - val_loss: 0.0402\n",
      "Epoch 39/400\n",
      "102/102 [==============================] - 0s 157us/sample - loss: 0.0379 - val_loss: 0.0398\n",
      "Epoch 40/400\n",
      "102/102 [==============================] - 0s 137us/sample - loss: 0.0371 - val_loss: 0.0397\n",
      "Epoch 41/400\n",
      "102/102 [==============================] - 0s 137us/sample - loss: 0.0358 - val_loss: 0.0392\n",
      "Epoch 42/400\n",
      "102/102 [==============================] - 0s 147us/sample - loss: 0.0349 - val_loss: 0.0395\n",
      "Epoch 43/400\n",
      "102/102 [==============================] - 0s 137us/sample - loss: 0.0343 - val_loss: 0.0398\n",
      "Epoch 44/400\n",
      "102/102 [==============================] - 0s 127us/sample - loss: 0.0336 - val_loss: 0.0392\n",
      "Epoch 45/400\n",
      "102/102 [==============================] - 0s 167us/sample - loss: 0.0329 - val_loss: 0.0379\n",
      "Epoch 46/400\n",
      "102/102 [==============================] - 0s 186us/sample - loss: 0.0323 - val_loss: 0.0366\n",
      "Epoch 47/400\n",
      "102/102 [==============================] - 0s 157us/sample - loss: 0.0316 - val_loss: 0.0357\n",
      "Epoch 48/400\n",
      "102/102 [==============================] - 0s 157us/sample - loss: 0.0309 - val_loss: 0.0353\n",
      "Epoch 49/400\n",
      "102/102 [==============================] - 0s 147us/sample - loss: 0.0301 - val_loss: 0.0343\n",
      "Epoch 50/400\n",
      "102/102 [==============================] - 0s 118us/sample - loss: 0.0296 - val_loss: 0.0336\n",
      "Epoch 51/400\n",
      "102/102 [==============================] - 0s 157us/sample - loss: 0.0290 - val_loss: 0.0324\n",
      "Epoch 52/400\n",
      "102/102 [==============================] - 0s 147us/sample - loss: 0.0283 - val_loss: 0.0316\n",
      "Epoch 53/400\n",
      "102/102 [==============================] - 0s 137us/sample - loss: 0.0276 - val_loss: 0.0315\n",
      "Epoch 54/400\n",
      "102/102 [==============================] - 0s 118us/sample - loss: 0.0274 - val_loss: 0.0316\n",
      "Epoch 55/400\n",
      "102/102 [==============================] - 0s 157us/sample - loss: 0.0262 - val_loss: 0.0318\n",
      "Epoch 56/400\n",
      "102/102 [==============================] - 0s 137us/sample - loss: 0.0253 - val_loss: 0.0323\n",
      "Epoch 57/400\n",
      "102/102 [==============================] - 0s 127us/sample - loss: 0.0241 - val_loss: 0.0320\n",
      "Epoch 58/400\n",
      "102/102 [==============================] - 0s 118us/sample - loss: 0.0235 - val_loss: 0.0322\n",
      "Epoch 59/400\n",
      "102/102 [==============================] - 0s 167us/sample - loss: 0.0226 - val_loss: 0.0329\n",
      "Epoch 60/400\n",
      "102/102 [==============================] - 0s 147us/sample - loss: 0.0219 - val_loss: 0.0332\n",
      "Epoch 61/400\n",
      "102/102 [==============================] - 0s 137us/sample - loss: 0.0210 - val_loss: 0.0327\n",
      "Epoch 62/400\n",
      "102/102 [==============================] - 0s 157us/sample - loss: 0.0202 - val_loss: 0.0324\n",
      "Epoch 63/400\n",
      "102/102 [==============================] - 0s 167us/sample - loss: 0.0195 - val_loss: 0.0331\n",
      "Epoch 64/400\n",
      "102/102 [==============================] - 0s 157us/sample - loss: 0.0187 - val_loss: 0.0338\n",
      "Epoch 65/400\n",
      "102/102 [==============================] - 0s 137us/sample - loss: 0.0182 - val_loss: 0.0337\n",
      "Epoch 66/400\n",
      "102/102 [==============================] - ETA: 0s - loss: 0.012 - 0s 157us/sample - loss: 0.0176 - val_loss: 0.0323\n",
      "Epoch 67/400\n",
      "102/102 [==============================] - 0s 137us/sample - loss: 0.0168 - val_loss: 0.0324\n",
      "Epoch 68/400\n",
      "102/102 [==============================] - 0s 176us/sample - loss: 0.0165 - val_loss: 0.0328\n",
      "Epoch 69/400\n",
      "102/102 [==============================] - 0s 206us/sample - loss: 0.0162 - val_loss: 0.0320\n",
      "Epoch 70/400\n",
      "102/102 [==============================] - 0s 147us/sample - loss: 0.0157 - val_loss: 0.0306\n",
      "Epoch 71/400\n",
      "102/102 [==============================] - 0s 147us/sample - loss: 0.0152 - val_loss: 0.0302\n",
      "Epoch 72/400\n",
      "102/102 [==============================] - 0s 167us/sample - loss: 0.0146 - val_loss: 0.0293\n",
      "Epoch 73/400\n",
      "102/102 [==============================] - 0s 157us/sample - loss: 0.0143 - val_loss: 0.0284\n",
      "Epoch 74/400\n",
      "102/102 [==============================] - 0s 167us/sample - loss: 0.0147 - val_loss: 0.0266\n",
      "Epoch 75/400\n",
      "102/102 [==============================] - 0s 127us/sample - loss: 0.0145 - val_loss: 0.0269\n",
      "Epoch 76/400\n",
      "102/102 [==============================] - 0s 127us/sample - loss: 0.0138 - val_loss: 0.0278\n",
      "Epoch 77/400\n",
      "102/102 [==============================] - 0s 157us/sample - loss: 0.0135 - val_loss: 0.0280\n"
     ]
    },
    {
     "name": "stdout",
     "output_type": "stream",
     "text": [
      "Epoch 78/400\n",
      "102/102 [==============================] - 0s 137us/sample - loss: 0.0130 - val_loss: 0.0275\n",
      "Epoch 79/400\n",
      "102/102 [==============================] - 0s 167us/sample - loss: 0.0126 - val_loss: 0.0267\n",
      "Epoch 80/400\n",
      "102/102 [==============================] - 0s 157us/sample - loss: 0.0124 - val_loss: 0.0257\n",
      "Epoch 81/400\n",
      "102/102 [==============================] - 0s 167us/sample - loss: 0.0122 - val_loss: 0.0270\n",
      "Epoch 82/400\n",
      "102/102 [==============================] - 0s 147us/sample - loss: 0.0117 - val_loss: 0.0267\n",
      "Epoch 83/400\n",
      "102/102 [==============================] - 0s 157us/sample - loss: 0.0116 - val_loss: 0.0268\n",
      "Epoch 84/400\n",
      "102/102 [==============================] - 0s 127us/sample - loss: 0.0112 - val_loss: 0.0294\n",
      "Epoch 85/400\n",
      "102/102 [==============================] - 0s 127us/sample - loss: 0.0113 - val_loss: 0.0298\n",
      "Epoch 86/400\n",
      "102/102 [==============================] - 0s 147us/sample - loss: 0.0110 - val_loss: 0.0293\n",
      "Epoch 87/400\n",
      "102/102 [==============================] - 0s 157us/sample - loss: 0.0109 - val_loss: 0.0279\n",
      "Epoch 88/400\n",
      "102/102 [==============================] - 0s 167us/sample - loss: 0.0108 - val_loss: 0.0277\n",
      "Epoch 89/400\n",
      "102/102 [==============================] - 0s 147us/sample - loss: 0.0104 - val_loss: 0.0270\n",
      "Epoch 90/400\n",
      "102/102 [==============================] - 0s 147us/sample - loss: 0.0103 - val_loss: 0.0260\n",
      "Epoch 91/400\n",
      "102/102 [==============================] - 0s 127us/sample - loss: 0.0102 - val_loss: 0.0246\n",
      "Epoch 92/400\n",
      "102/102 [==============================] - 0s 167us/sample - loss: 0.0100 - val_loss: 0.0277\n",
      "Epoch 93/400\n",
      "102/102 [==============================] - 0s 216us/sample - loss: 0.0102 - val_loss: 0.0301\n",
      "Epoch 94/400\n",
      "102/102 [==============================] - 0s 196us/sample - loss: 0.0102 - val_loss: 0.0267\n",
      "Epoch 95/400\n",
      "102/102 [==============================] - 0s 176us/sample - loss: 0.0095 - val_loss: 0.0254\n",
      "Epoch 96/400\n",
      "102/102 [==============================] - 0s 167us/sample - loss: 0.0096 - val_loss: 0.0248\n",
      "Epoch 97/400\n",
      "102/102 [==============================] - 0s 157us/sample - loss: 0.0094 - val_loss: 0.0268\n",
      "Epoch 98/400\n",
      "102/102 [==============================] - 0s 196us/sample - loss: 0.0093 - val_loss: 0.0276\n",
      "Epoch 99/400\n",
      "102/102 [==============================] - 0s 167us/sample - loss: 0.0094 - val_loss: 0.0271\n",
      "Epoch 100/400\n",
      "102/102 [==============================] - 0s 167us/sample - loss: 0.0089 - val_loss: 0.0243\n",
      "Epoch 101/400\n",
      "102/102 [==============================] - 0s 167us/sample - loss: 0.0090 - val_loss: 0.0232\n",
      "Epoch 102/400\n",
      "102/102 [==============================] - 0s 147us/sample - loss: 0.0093 - val_loss: 0.0264\n",
      "Epoch 103/400\n",
      "102/102 [==============================] - 0s 157us/sample - loss: 0.0087 - val_loss: 0.0261\n",
      "Epoch 104/400\n",
      "102/102 [==============================] - 0s 137us/sample - loss: 0.0084 - val_loss: 0.0275\n",
      "Epoch 105/400\n",
      "102/102 [==============================] - 0s 176us/sample - loss: 0.0084 - val_loss: 0.0245\n",
      "Epoch 106/400\n",
      "102/102 [==============================] - 0s 167us/sample - loss: 0.0089 - val_loss: 0.0230\n",
      "Epoch 107/400\n",
      "102/102 [==============================] - 0s 167us/sample - loss: 0.0087 - val_loss: 0.0264\n",
      "Epoch 108/400\n",
      "102/102 [==============================] - 0s 157us/sample - loss: 0.0082 - val_loss: 0.0305\n",
      "Epoch 109/400\n",
      "102/102 [==============================] - 0s 176us/sample - loss: 0.0092 - val_loss: 0.0276\n",
      "Epoch 110/400\n",
      "102/102 [==============================] - 0s 186us/sample - loss: 0.0085 - val_loss: 0.0228\n",
      "Epoch 111/400\n",
      "102/102 [==============================] - 0s 157us/sample - loss: 0.0083 - val_loss: 0.0253\n",
      "Epoch 112/400\n",
      "102/102 [==============================] - 0s 157us/sample - loss: 0.0081 - val_loss: 0.0260\n",
      "Epoch 113/400\n",
      "102/102 [==============================] - 0s 167us/sample - loss: 0.0081 - val_loss: 0.0246\n",
      "Epoch 114/400\n",
      "102/102 [==============================] - 0s 167us/sample - loss: 0.0079 - val_loss: 0.0246\n",
      "Epoch 115/400\n",
      "102/102 [==============================] - 0s 157us/sample - loss: 0.0077 - val_loss: 0.0249\n",
      "Epoch 116/400\n",
      "102/102 [==============================] - 0s 167us/sample - loss: 0.0076 - val_loss: 0.0248\n",
      "Epoch 117/400\n",
      "102/102 [==============================] - 0s 157us/sample - loss: 0.0074 - val_loss: 0.0228\n",
      "Epoch 118/400\n",
      "102/102 [==============================] - 0s 167us/sample - loss: 0.0076 - val_loss: 0.0237\n",
      "Epoch 119/400\n",
      "102/102 [==============================] - 0s 216us/sample - loss: 0.0076 - val_loss: 0.0274\n",
      "Epoch 120/400\n",
      "102/102 [==============================] - 0s 167us/sample - loss: 0.0078 - val_loss: 0.0278\n",
      "Epoch 121/400\n",
      "102/102 [==============================] - 0s 206us/sample - loss: 0.0078 - val_loss: 0.0279\n",
      "Epoch 122/400\n",
      "102/102 [==============================] - 0s 186us/sample - loss: 0.0075 - val_loss: 0.0254\n",
      "Epoch 123/400\n",
      "102/102 [==============================] - 0s 176us/sample - loss: 0.0074 - val_loss: 0.0235\n",
      "Epoch 124/400\n",
      "102/102 [==============================] - 0s 137us/sample - loss: 0.0073 - val_loss: 0.0248\n",
      "Epoch 125/400\n",
      "102/102 [==============================] - 0s 137us/sample - loss: 0.0073 - val_loss: 0.0275\n",
      "Epoch 126/400\n",
      "102/102 [==============================] - 0s 157us/sample - loss: 0.0071 - val_loss: 0.0256\n",
      "Epoch 127/400\n",
      "102/102 [==============================] - 0s 147us/sample - loss: 0.0068 - val_loss: 0.0227\n",
      "Epoch 128/400\n",
      "102/102 [==============================] - 0s 157us/sample - loss: 0.0071 - val_loss: 0.0224\n",
      "Epoch 129/400\n",
      "102/102 [==============================] - 0s 167us/sample - loss: 0.0072 - val_loss: 0.0255\n",
      "Epoch 130/400\n",
      "102/102 [==============================] - 0s 137us/sample - loss: 0.0069 - val_loss: 0.0252\n",
      "Epoch 131/400\n",
      "102/102 [==============================] - 0s 147us/sample - loss: 0.0067 - val_loss: 0.0246\n",
      "Epoch 132/400\n",
      "102/102 [==============================] - 0s 157us/sample - loss: 0.0066 - val_loss: 0.0233\n",
      "Epoch 133/400\n",
      "102/102 [==============================] - 0s 147us/sample - loss: 0.0066 - val_loss: 0.0228\n",
      "Epoch 134/400\n",
      "102/102 [==============================] - 0s 137us/sample - loss: 0.0065 - val_loss: 0.0247\n",
      "Epoch 135/400\n",
      "102/102 [==============================] - 0s 167us/sample - loss: 0.0064 - val_loss: 0.0258\n",
      "Epoch 136/400\n",
      "102/102 [==============================] - 0s 147us/sample - loss: 0.0066 - val_loss: 0.0257\n",
      "Epoch 137/400\n",
      "102/102 [==============================] - 0s 176us/sample - loss: 0.0063 - val_loss: 0.0232\n",
      "Epoch 138/400\n",
      "102/102 [==============================] - 0s 147us/sample - loss: 0.0066 - val_loss: 0.0222\n",
      "Epoch 139/400\n",
      "102/102 [==============================] - 0s 127us/sample - loss: 0.0063 - val_loss: 0.0244\n",
      "Epoch 140/400\n",
      "102/102 [==============================] - 0s 137us/sample - loss: 0.0062 - val_loss: 0.0242\n",
      "Epoch 141/400\n",
      "102/102 [==============================] - 0s 157us/sample - loss: 0.0062 - val_loss: 0.0237\n",
      "Epoch 142/400\n",
      "102/102 [==============================] - 0s 147us/sample - loss: 0.0061 - val_loss: 0.0225\n",
      "Epoch 143/400\n",
      "102/102 [==============================] - 0s 157us/sample - loss: 0.0061 - val_loss: 0.0232\n",
      "Epoch 144/400\n",
      "102/102 [==============================] - 0s 137us/sample - loss: 0.0060 - val_loss: 0.0224\n",
      "Epoch 145/400\n",
      "102/102 [==============================] - 0s 206us/sample - loss: 0.0060 - val_loss: 0.0228\n",
      "Epoch 146/400\n",
      "102/102 [==============================] - 0s 167us/sample - loss: 0.0060 - val_loss: 0.0232\n",
      "Epoch 147/400\n",
      "102/102 [==============================] - 0s 157us/sample - loss: 0.0061 - val_loss: 0.0235\n",
      "Epoch 148/400\n",
      "102/102 [==============================] - 0s 137us/sample - loss: 0.0059 - val_loss: 0.0253\n",
      "Epoch 149/400\n",
      "102/102 [==============================] - 0s 137us/sample - loss: 0.0063 - val_loss: 0.0246\n",
      "Epoch 150/400\n",
      "102/102 [==============================] - 0s 167us/sample - loss: 0.0061 - val_loss: 0.0236\n",
      "Epoch 151/400\n",
      "102/102 [==============================] - 0s 176us/sample - loss: 0.0057 - val_loss: 0.0216\n",
      "Epoch 152/400\n",
      "102/102 [==============================] - 0s 127us/sample - loss: 0.0059 - val_loss: 0.0198\n",
      "Epoch 153/400\n",
      "102/102 [==============================] - 0s 157us/sample - loss: 0.0065 - val_loss: 0.0227\n",
      "Epoch 154/400\n",
      "102/102 [==============================] - 0s 127us/sample - loss: 0.0062 - val_loss: 0.0253\n"
     ]
    },
    {
     "name": "stdout",
     "output_type": "stream",
     "text": [
      "Epoch 155/400\n",
      "102/102 [==============================] - 0s 157us/sample - loss: 0.0063 - val_loss: 0.0213\n",
      "Epoch 156/400\n",
      "102/102 [==============================] - 0s 157us/sample - loss: 0.0061 - val_loss: 0.0209\n",
      "Epoch 157/400\n",
      "102/102 [==============================] - 0s 167us/sample - loss: 0.0057 - val_loss: 0.0228\n",
      "Epoch 158/400\n",
      "102/102 [==============================] - ETA: 0s - loss: 0.006 - 0s 147us/sample - loss: 0.0056 - val_loss: 0.0219\n",
      "Epoch 159/400\n",
      "102/102 [==============================] - 0s 157us/sample - loss: 0.0055 - val_loss: 0.0210\n",
      "Epoch 160/400\n",
      "102/102 [==============================] - 0s 157us/sample - loss: 0.0054 - val_loss: 0.0224\n",
      "Epoch 161/400\n",
      "102/102 [==============================] - 0s 147us/sample - loss: 0.0054 - val_loss: 0.0233\n",
      "Epoch 162/400\n",
      "102/102 [==============================] - 0s 157us/sample - loss: 0.0056 - val_loss: 0.0223\n",
      "Epoch 163/400\n",
      "102/102 [==============================] - 0s 147us/sample - loss: 0.0052 - val_loss: 0.0190\n",
      "Epoch 164/400\n",
      "102/102 [==============================] - 0s 147us/sample - loss: 0.0064 - val_loss: 0.0196\n",
      "Epoch 165/400\n",
      "102/102 [==============================] - 0s 157us/sample - loss: 0.0061 - val_loss: 0.0241\n",
      "Epoch 166/400\n",
      "102/102 [==============================] - 0s 157us/sample - loss: 0.0056 - val_loss: 0.0226\n",
      "Epoch 167/400\n",
      "102/102 [==============================] - 0s 137us/sample - loss: 0.0052 - val_loss: 0.0221\n",
      "Epoch 168/400\n",
      "102/102 [==============================] - 0s 137us/sample - loss: 0.0052 - val_loss: 0.0212\n",
      "Epoch 169/400\n",
      "102/102 [==============================] - 0s 147us/sample - loss: 0.0051 - val_loss: 0.0206\n",
      "Epoch 170/400\n",
      "102/102 [==============================] - 0s 167us/sample - loss: 0.0051 - val_loss: 0.0207\n",
      "Epoch 171/400\n",
      "102/102 [==============================] - 0s 167us/sample - loss: 0.0050 - val_loss: 0.0210\n",
      "Epoch 172/400\n",
      "102/102 [==============================] - 0s 147us/sample - loss: 0.0051 - val_loss: 0.0210\n",
      "Epoch 173/400\n",
      "102/102 [==============================] - 0s 157us/sample - loss: 0.0051 - val_loss: 0.0202\n",
      "Epoch 174/400\n",
      "102/102 [==============================] - 0s 176us/sample - loss: 0.0050 - val_loss: 0.0213\n",
      "Epoch 175/400\n",
      "102/102 [==============================] - 0s 186us/sample - loss: 0.0050 - val_loss: 0.0200\n",
      "Epoch 176/400\n",
      "102/102 [==============================] - 0s 206us/sample - loss: 0.0049 - val_loss: 0.0198\n",
      "Epoch 177/400\n",
      "102/102 [==============================] - 0s 90us/sample - loss: 0.0050 - val_loss: 0.0201\n",
      "Epoch 178/400\n",
      "102/102 [==============================] - 0s 273us/sample - loss: 0.0053 - val_loss: 0.0224\n",
      "Epoch 179/400\n",
      "102/102 [==============================] - 0s 147us/sample - loss: 0.0050 - val_loss: 0.0200\n",
      "Epoch 180/400\n",
      "102/102 [==============================] - 0s 157us/sample - loss: 0.0048 - val_loss: 0.0193\n",
      "Epoch 181/400\n",
      "102/102 [==============================] - 0s 157us/sample - loss: 0.0049 - val_loss: 0.0205\n",
      "Epoch 182/400\n",
      "102/102 [==============================] - 0s 176us/sample - loss: 0.0047 - val_loss: 0.0202\n",
      "Epoch 183/400\n",
      "102/102 [==============================] - 0s 176us/sample - loss: 0.0047 - val_loss: 0.0196\n",
      "Epoch 184/400\n",
      "102/102 [==============================] - 0s 147us/sample - loss: 0.0047 - val_loss: 0.0203\n",
      "Epoch 185/400\n",
      "102/102 [==============================] - 0s 176us/sample - loss: 0.0047 - val_loss: 0.0201\n",
      "Epoch 186/400\n",
      "102/102 [==============================] - 0s 167us/sample - loss: 0.0047 - val_loss: 0.0209\n",
      "Epoch 187/400\n",
      "102/102 [==============================] - 0s 167us/sample - loss: 0.0048 - val_loss: 0.0225\n",
      "Epoch 188/400\n",
      "102/102 [==============================] - 0s 176us/sample - loss: 0.0049 - val_loss: 0.0196\n",
      "Epoch 00188: early stopping\n"
     ]
    },
    {
     "data": {
      "text/plain": [
       "<tensorflow.python.keras.callbacks.History at 0x1c02b91f808>"
      ]
     },
     "execution_count": 91,
     "metadata": {},
     "output_type": "execute_result"
    }
   ],
   "source": [
    "model.fit(x=X_train , y=y_train , validation_data=(X_test,y_test), verbose=1, epochs=400 , callbacks=[early_stop])"
   ]
  },
  {
   "cell_type": "code",
   "execution_count": 93,
   "metadata": {},
   "outputs": [],
   "source": [
    "loss = pd.DataFrame(model.history.history)"
   ]
  },
  {
   "cell_type": "code",
   "execution_count": 95,
   "metadata": {},
   "outputs": [
    {
     "data": {
      "text/plain": [
       "<matplotlib.axes._subplots.AxesSubplot at 0x1c02c687648>"
      ]
     },
     "execution_count": 95,
     "metadata": {},
     "output_type": "execute_result"
    },
    {
     "data": {
      "image/png": "[encoded data removed]",
      "text/plain": [
       "<Figure size 432x288 with 1 Axes>"
      ]
     },
     "metadata": {
      "needs_background": "light"
     },
     "output_type": "display_data"
    }
   ],
   "source": [
    "loss.plot()"
   ]
  },
  {
   "cell_type": "code",
   "execution_count": 96,
   "metadata": {},
   "outputs": [
    {
     "name": "stdout",
     "output_type": "stream",
     "text": [
      "102/102 [==============================] - 0s 127us/sample - loss: 0.0046\n"
     ]
    },
    {
     "data": {
      "text/plain": [
       "0.004558371608236841"
      ]
     },
     "execution_count": 96,
     "metadata": {},
     "output_type": "execute_result"
    }
   ],
   "source": [
    "model.evaluate(X_train,y_train)"
   ]
  },
  {
   "cell_type": "code",
   "execution_count": 97,
   "metadata": {},
   "outputs": [
    {
     "name": "stdout",
     "output_type": "stream",
     "text": [
      "44/44 [==============================] - 0s 182us/sample - loss: 0.0196\n"
     ]
    },
    {
     "data": {
      "text/plain": [
       "0.019585718781771986"
      ]
     },
     "execution_count": 97,
     "metadata": {},
     "output_type": "execute_result"
    }
   ],
   "source": [
    "model.evaluate(X_test, y_test)"
   ]
  },
  {
   "cell_type": "markdown",
   "metadata": {},
   "source": [
    "# Predicting on test set"
   ]
  },
  {
   "cell_type": "code",
   "execution_count": 98,
   "metadata": {},
   "outputs": [],
   "source": [
    "predictions = model.predict(X_test)"
   ]
  },
  {
   "cell_type": "code",
   "execution_count": 100,
   "metadata": {},
   "outputs": [],
   "source": [
    "from sklearn.metrics import mean_squared_error,mean_absolute_error,explained_variance_score"
   ]
  },
  {
   "cell_type": "code",
   "execution_count": 101,
   "metadata": {},
   "outputs": [
    {
     "name": "stdout",
     "output_type": "stream",
     "text": [
      "0.019585718847434173\n"
     ]
    }
   ],
   "source": [
    "print(mean_squared_error(y_test,predictions))"
   ]
  },
  {
   "cell_type": "code",
   "execution_count": 102,
   "metadata": {},
   "outputs": [
    {
     "name": "stdout",
     "output_type": "stream",
     "text": [
      "0.7726160929916606\n"
     ]
    }
   ],
   "source": [
    "print(explained_variance_score(y_test,predictions))"
   ]
  },
  {
   "cell_type": "code",
   "execution_count": 103,
   "metadata": {},
   "outputs": [
    {
     "name": "stdout",
     "output_type": "stream",
     "text": [
      "0.10350893833420492\n"
     ]
    }
   ],
   "source": [
    "print(mean_absolute_error(y_test,predictions))"
   ]
  },
  {
   "cell_type": "code",
   "execution_count": 112,
   "metadata": {},
   "outputs": [
    {
     "data": {
      "text/plain": [
       "count    146.000000\n",
       "mean       0.337603\n",
       "std        0.260528\n",
       "min        0.000000\n",
       "25%        0.150000\n",
       "50%        0.285000\n",
       "75%        0.467500\n",
       "max        1.530000\n",
       "Name: VB, dtype: float64"
      ]
     },
     "execution_count": 112,
     "metadata": {},
     "output_type": "execute_result"
    }
   ],
   "source": [
    "df[\"VB\"].describe()"
   ]
  },
  {
   "cell_type": "code",
   "execution_count": 115,
   "metadata": {},
   "outputs": [
    {
     "data": {
      "text/plain": [
       "<matplotlib.collections.PathCollection at 0x1c02c393808>"
      ]
     },
     "execution_count": 115,
     "metadata": {},
     "output_type": "execute_result"
    },
    {
     "data": {
      "image/png": "[encoded data removed]",
      "text/plain": [
       "<Figure size 432x288 with 1 Axes>"
      ]
     },
     "metadata": {
      "needs_background": "light"
     },
     "output_type": "display_data"
    }
   ],
   "source": [
    "plt.scatter(y_test,predictions)"
   ]
  },
  {
   "cell_type": "markdown",
   "metadata": {},
   "source": [
    "# Predicting on new data"
   ]
  },
  {
   "cell_type": "code",
   "execution_count": 154,
   "metadata": {},
   "outputs": [
    {
     "data": {
      "text/html": [
       "<div>\n",
       "<style scoped>\n",
       "    .dataframe tbody tr th:only-of-type {\n",
       "        vertical-align: middle;\n",
       "    }\n",
       "\n",
       "    .dataframe tbody tr th {\n",
       "        vertical-align: top;\n",
       "    }\n",
       "\n",
       "    .dataframe thead th {\n",
       "        text-align: right;\n",
       "    }\n",
       "</style>\n",
       "<table border=\"1\" class=\"dataframe\">\n",
       "  <thead>\n",
       "    <tr style=\"text-align: right;\">\n",
       "      <th></th>\n",
       "      <th>VB</th>\n",
       "      <th>time</th>\n",
       "      <th>DOC</th>\n",
       "      <th>feed</th>\n",
       "      <th>material</th>\n",
       "      <th>smcAC</th>\n",
       "      <th>smcDC</th>\n",
       "      <th>vib_table</th>\n",
       "      <th>vib_spindle</th>\n",
       "      <th>AE_table</th>\n",
       "      <th>AE_spindle</th>\n",
       "    </tr>\n",
       "  </thead>\n",
       "  <tbody>\n",
       "    <tr>\n",
       "      <th>0</th>\n",
       "      <td>0.00</td>\n",
       "      <td>2</td>\n",
       "      <td>1.5</td>\n",
       "      <td>0.5</td>\n",
       "      <td>1</td>\n",
       "      <td>-0.017090</td>\n",
       "      <td>0.625000</td>\n",
       "      <td>0.078125</td>\n",
       "      <td>0.314941</td>\n",
       "      <td>0.087280</td>\n",
       "      <td>0.103760</td>\n",
       "    </tr>\n",
       "    <tr>\n",
       "      <th>1</th>\n",
       "      <td>0.11</td>\n",
       "      <td>7</td>\n",
       "      <td>1.5</td>\n",
       "      <td>0.5</td>\n",
       "      <td>1</td>\n",
       "      <td>0.112305</td>\n",
       "      <td>0.131836</td>\n",
       "      <td>0.083008</td>\n",
       "      <td>0.316162</td>\n",
       "      <td>0.112915</td>\n",
       "      <td>0.139771</td>\n",
       "    </tr>\n",
       "  </tbody>\n",
       "</table>\n",
       "</div>"
      ],
      "text/plain": [
       "     VB  time  DOC  feed  material     smcAC     smcDC  vib_table  \\\n",
       "0  0.00     2  1.5   0.5         1 -0.017090  0.625000   0.078125   \n",
       "1  0.11     7  1.5   0.5         1  0.112305  0.131836   0.083008   \n",
       "\n",
       "   vib_spindle  AE_table  AE_spindle  \n",
       "0     0.314941  0.087280    0.103760  \n",
       "1     0.316162  0.112915    0.139771  "
      ]
     },
     "execution_count": 154,
     "metadata": {},
     "output_type": "execute_result"
    }
   ],
   "source": [
    "df.head(2)"
   ]
  },
  {
   "cell_type": "code",
   "execution_count": 156,
   "metadata": {},
   "outputs": [],
   "source": [
    "new_data = df.drop(\"VB\" , axis=1).iloc[1]"
   ]
  },
  {
   "cell_type": "code",
   "execution_count": 157,
   "metadata": {},
   "outputs": [
    {
     "data": {
      "text/plain": [
       "time           7.000000\n",
       "DOC            1.500000\n",
       "feed           0.500000\n",
       "material       1.000000\n",
       "smcAC          0.112305\n",
       "smcDC          0.131836\n",
       "vib_table      0.083008\n",
       "vib_spindle    0.316162\n",
       "AE_table       0.112915\n",
       "AE_spindle     0.139771\n",
       "Name: 1, dtype: float64"
      ]
     },
     "execution_count": 157,
     "metadata": {},
     "output_type": "execute_result"
    }
   ],
   "source": [
    "new_data"
   ]
  },
  {
   "cell_type": "code",
   "execution_count": null,
   "metadata": {},
   "outputs": [],
   "source": []
  },
  {
   "cell_type": "code",
   "execution_count": 159,
   "metadata": {},
   "outputs": [],
   "source": [
    "new_data = new_data.values.reshape(-1,10)"
   ]
  },
  {
   "cell_type": "code",
   "execution_count": 160,
   "metadata": {},
   "outputs": [
    {
     "data": {
      "text/plain": [
       "(1, 10)"
      ]
     },
     "execution_count": 160,
     "metadata": {},
     "output_type": "execute_result"
    }
   ],
   "source": [
    "new_data.shape"
   ]
  },
  {
   "cell_type": "code",
   "execution_count": 161,
   "metadata": {},
   "outputs": [],
   "source": [
    "new_data = scaler.transform(new_data)"
   ]
  },
  {
   "cell_type": "code",
   "execution_count": 163,
   "metadata": {},
   "outputs": [
    {
     "data": {
      "text/plain": [
       "array([[0.06186708]], dtype=float32)"
      ]
     },
     "execution_count": 163,
     "metadata": {},
     "output_type": "execute_result"
    }
   ],
   "source": [
    "model.predict(new_data)\n"
   ]
  },
  {
   "cell_type": "code",
   "execution_count": 168,
   "metadata": {},
   "outputs": [
    {
     "data": {
      "text/html": [
       "<div>\n",
       "<style scoped>\n",
       "    .dataframe tbody tr th:only-of-type {\n",
       "        vertical-align: middle;\n",
       "    }\n",
       "\n",
       "    .dataframe tbody tr th {\n",
       "        vertical-align: top;\n",
       "    }\n",
       "\n",
       "    .dataframe thead th {\n",
       "        text-align: right;\n",
       "    }\n",
       "</style>\n",
       "<table border=\"1\" class=\"dataframe\">\n",
       "  <thead>\n",
       "    <tr style=\"text-align: right;\">\n",
       "      <th></th>\n",
       "      <th>VB</th>\n",
       "      <th>time</th>\n",
       "      <th>DOC</th>\n",
       "      <th>feed</th>\n",
       "      <th>material</th>\n",
       "      <th>smcAC</th>\n",
       "      <th>smcDC</th>\n",
       "      <th>vib_table</th>\n",
       "      <th>vib_spindle</th>\n",
       "      <th>AE_table</th>\n",
       "      <th>AE_spindle</th>\n",
       "    </tr>\n",
       "  </thead>\n",
       "  <tbody>\n",
       "    <tr>\n",
       "      <th>0</th>\n",
       "      <td>0.00</td>\n",
       "      <td>2</td>\n",
       "      <td>1.5</td>\n",
       "      <td>0.5</td>\n",
       "      <td>1</td>\n",
       "      <td>-0.017090</td>\n",
       "      <td>0.625000</td>\n",
       "      <td>0.078125</td>\n",
       "      <td>0.314941</td>\n",
       "      <td>0.087280</td>\n",
       "      <td>0.103760</td>\n",
       "    </tr>\n",
       "    <tr>\n",
       "      <th>1</th>\n",
       "      <td>0.11</td>\n",
       "      <td>7</td>\n",
       "      <td>1.5</td>\n",
       "      <td>0.5</td>\n",
       "      <td>1</td>\n",
       "      <td>0.112305</td>\n",
       "      <td>0.131836</td>\n",
       "      <td>0.083008</td>\n",
       "      <td>0.316162</td>\n",
       "      <td>0.112915</td>\n",
       "      <td>0.139771</td>\n",
       "    </tr>\n",
       "    <tr>\n",
       "      <th>2</th>\n",
       "      <td>0.20</td>\n",
       "      <td>15</td>\n",
       "      <td>1.5</td>\n",
       "      <td>0.5</td>\n",
       "      <td>1</td>\n",
       "      <td>0.329590</td>\n",
       "      <td>0.683594</td>\n",
       "      <td>0.070801</td>\n",
       "      <td>0.307617</td>\n",
       "      <td>0.103760</td>\n",
       "      <td>0.120239</td>\n",
       "    </tr>\n",
       "    <tr>\n",
       "      <th>3</th>\n",
       "      <td>0.24</td>\n",
       "      <td>19</td>\n",
       "      <td>1.5</td>\n",
       "      <td>0.5</td>\n",
       "      <td>1</td>\n",
       "      <td>-0.578613</td>\n",
       "      <td>1.381836</td>\n",
       "      <td>0.065918</td>\n",
       "      <td>0.322266</td>\n",
       "      <td>0.090942</td>\n",
       "      <td>0.123901</td>\n",
       "    </tr>\n",
       "  </tbody>\n",
       "</table>\n",
       "</div>"
      ],
      "text/plain": [
       "     VB  time  DOC  feed  material     smcAC     smcDC  vib_table  \\\n",
       "0  0.00     2  1.5   0.5         1 -0.017090  0.625000   0.078125   \n",
       "1  0.11     7  1.5   0.5         1  0.112305  0.131836   0.083008   \n",
       "2  0.20    15  1.5   0.5         1  0.329590  0.683594   0.070801   \n",
       "3  0.24    19  1.5   0.5         1 -0.578613  1.381836   0.065918   \n",
       "\n",
       "   vib_spindle  AE_table  AE_spindle  \n",
       "0     0.314941  0.087280    0.103760  \n",
       "1     0.316162  0.112915    0.139771  \n",
       "2     0.307617  0.103760    0.120239  \n",
       "3     0.322266  0.090942    0.123901  "
      ]
     },
     "execution_count": 168,
     "metadata": {},
     "output_type": "execute_result"
    }
   ],
   "source": [
    "df.head(4)"
   ]
  },
  {
   "cell_type": "code",
   "execution_count": 169,
   "metadata": {},
   "outputs": [],
   "source": [
    "data_2 =  df.drop(\"VB\" , axis=1).iloc[3]"
   ]
  },
  {
   "cell_type": "code",
   "execution_count": 171,
   "metadata": {},
   "outputs": [],
   "source": [
    "data_2 = data_2.values.reshape(-1,10)"
   ]
  },
  {
   "cell_type": "code",
   "execution_count": 172,
   "metadata": {},
   "outputs": [],
   "source": [
    "data_2 = scaler.transform(data_2)"
   ]
  },
  {
   "cell_type": "code",
   "execution_count": 174,
   "metadata": {},
   "outputs": [
    {
     "data": {
      "text/plain": [
       "array([[0.19261746]], dtype=float32)"
      ]
     },
     "execution_count": 174,
     "metadata": {},
     "output_type": "execute_result"
    }
   ],
   "source": [
    "model.predict(data_2)"
   ]
  },
  {
   "cell_type": "code",
   "execution_count": 175,
   "metadata": {},
   "outputs": [
    {
     "data": {
      "text/plain": [
       "0.24"
      ]
     },
     "execution_count": 175,
     "metadata": {},
     "output_type": "execute_result"
    }
   ],
   "source": [
    "df[\"VB\"].iloc[3]"
   ]
  },
  {
   "cell_type": "code",
   "execution_count": null,
   "metadata": {},
   "outputs": [],
   "source": []
  }
 ],
 "metadata": {
  "kernelspec": {
   "display_name": "Python 3",
   "language": "python",
   "name": "python3"
  },
  "language_info": {
   "codemirror_mode": {
    "name": "ipython",
    "version": 3
   },
   "file_extension": ".py",
   "mimetype": "text/x-python",
   "name": "python",
   "nbconvert_exporter": "python",
   "pygments_lexer": "ipython3",
   "version": "3.7.6"
  }
 },
 "nbformat": 4,
 "nbformat_minor": 4
}
